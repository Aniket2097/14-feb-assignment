{
 "cells": [
  {
   "cell_type": "markdown",
   "id": "479d75b6-cf30-4624-b71f-343c93a30588",
   "metadata": {},
   "source": [
    "Q.1). What is multithreading in python? Why is it used? Name the module used to handle threads in python"
   ]
  },
  {
   "cell_type": "markdown",
   "id": "a55ad84e-b1cd-48c0-87ee-b91798fa9440",
   "metadata": {},
   "source": [
    "Multithreading in Python refers to the concurrent execution of multiple threads within a single Python process. A thread is a separate flow of execution that can run in parallel with other threads. Multithreading is used to achieve parallelism and can help improve the performance of a program by allowing multiple tasks to be executed at the same time.\n",
    "\n",
    "In Python, multithreading is often used to perform tasks that involve waiting for input or output operations, such as file I/O or network communication. By using multiple threads, a program can continue to execute other tasks while it waits for I/O operations to complete.\n",
    "\n",
    "The module used to handle threads in Python is called \"threading\". This module provides a simple way to create and manage threads within a Python program. The threading module allows developers to create new threads, start and stop threads, and manage thread synchronization and communication. It also provides support for thread-local data, which allows each thread to have its own set of data that is not shared with other threads."
   ]
  },
  {
   "cell_type": "code",
   "execution_count": null,
   "id": "4d90485a-deea-4aa4-b9a3-0602c573bf5a",
   "metadata": {},
   "outputs": [],
   "source": []
  },
  {
   "cell_type": "code",
   "execution_count": null,
   "id": "2d0a9485-63ac-43d3-b791-d3728c2b63c4",
   "metadata": {},
   "outputs": [],
   "source": []
  },
  {
   "cell_type": "markdown",
   "id": "49029b5b-e337-4eb2-acdd-45781c419f56",
   "metadata": {},
   "source": [
    "Q.2) Why threading module used? Write the use of the following functions\n",
    "\n",
    "( activeCount\n",
    "\n",
    " currentThread\n",
    " \n",
    " enumerate)"
   ]
  },
  {
   "cell_type": "markdown",
   "id": "afcaf886-54d1-4cc0-bc74-6f580d8bf9d6",
   "metadata": {},
   "source": [
    "Python threading module used to have different parts of  program run concurrently and can simplify design."
   ]
  },
  {
   "cell_type": "markdown",
   "id": "0c759629-edff-41d3-8ba1-79b1177fae22",
   "metadata": {},
   "source": [
    "he threading module in Python is used to handle threads within a program. It provides a way to create, manage, and control the execution of multiple threads in a single Python process. Here are the uses of some of the commonly used functions in the threading module:\n",
    "\n",
    "a) activeCount(): This function is used to get the number of currently active threads in the program. It returns an integer that represents the number of threads that are currently executing or waiting to execute.\n",
    "\n",
    "b) currentThread(): This function returns a reference to the currently executing thread object. It can be used to obtain information about the current thread, such as its name or thread ID.\n",
    "\n",
    "c) enumerate(): This function returns a list of all active thread objects in the program. It can be used to obtain information about all threads that are currently executing or waiting to execute. By default, this function includes the main thread in the list of threads.\n",
    "\n",
    "In summary, the activeCount() function is used to obtain the number of active threads, currentThread() is used to obtain information about the current thread, and enumerate() is used to obtain a list of all active thread objects in the program. These functions can be helpful in managing and debugging a program that uses multiple threads."
   ]
  },
  {
   "cell_type": "code",
   "execution_count": 1,
   "id": "05c83539-0e21-48e5-86b7-035768bdb36e",
   "metadata": {},
   "outputs": [
    {
     "name": "stdout",
     "output_type": "stream",
     "text": [
      "Current thread name: Thread-5 (print_thread_name)\n",
      "Current thread name: Thread-6 (print_thread_name)\n",
      "Current thread name: Thread-7 (print_thread_name)\n",
      "Number of active threads: 8\n",
      "Current thread ID: 139758647609152\n",
      "Current thread name: MainThread\n",
      "Thread name: MainThread, ID: 139758647609152, is daemon: False\n",
      "Thread name: IOPub, ID: 139758504244800, is daemon: True\n",
      "Thread name: Heartbeat, ID: 139758495852096, is daemon: True\n",
      "Thread name: Thread-3 (_watch_pipe_fd), ID: 139758470673984, is daemon: True\n",
      "Thread name: Thread-4 (_watch_pipe_fd), ID: 139758462281280, is daemon: True\n",
      "Thread name: Control, ID: 139758453888576, is daemon: True\n",
      "Thread name: IPythonHistorySavingThread, ID: 139758101591616, is daemon: True\n",
      "Thread name: Thread-2, ID: 139758093198912, is daemon: True\n"
     ]
    },
    {
     "name": "stderr",
     "output_type": "stream",
     "text": [
      "/tmp/ipykernel_84/730725529.py:5: DeprecationWarning: currentThread() is deprecated, use current_thread() instead\n",
      "  print(f\"Current thread name: {threading.currentThread().getName()}\")\n",
      "/tmp/ipykernel_84/730725529.py:5: DeprecationWarning: getName() is deprecated, get the name attribute instead\n",
      "  print(f\"Current thread name: {threading.currentThread().getName()}\")\n",
      "/tmp/ipykernel_84/730725529.py:22: DeprecationWarning: activeCount() is deprecated, use active_count() instead\n",
      "  print(f\"Number of active threads: {threading.activeCount()}\")\n",
      "/tmp/ipykernel_84/730725529.py:25: DeprecationWarning: currentThread() is deprecated, use current_thread() instead\n",
      "  print(f\"Current thread ID: {threading.currentThread().ident}\")\n",
      "/tmp/ipykernel_84/730725529.py:26: DeprecationWarning: currentThread() is deprecated, use current_thread() instead\n",
      "  print(f\"Current thread name: {threading.currentThread().getName()}\")\n",
      "/tmp/ipykernel_84/730725529.py:26: DeprecationWarning: getName() is deprecated, get the name attribute instead\n",
      "  print(f\"Current thread name: {threading.currentThread().getName()}\")\n",
      "/tmp/ipykernel_84/730725529.py:30: DeprecationWarning: getName() is deprecated, get the name attribute instead\n",
      "  print(f\"Thread name: {thread.getName()}, ID: {thread.ident}, is daemon: {thread.daemon}\")\n"
     ]
    }
   ],
   "source": [
    "import threading\n",
    "\n",
    "# Define a simple function that prints the name of the current thread\n",
    "def print_thread_name():\n",
    "    print(f\"Current thread name: {threading.currentThread().getName()}\")\n",
    "\n",
    "# Create three thread objects and start them\n",
    "thread1 = threading.Thread(target=print_thread_name)\n",
    "thread2 = threading.Thread(target=print_thread_name)\n",
    "thread3 = threading.Thread(target=print_thread_name)\n",
    "\n",
    "thread1.start()\n",
    "thread2.start()\n",
    "thread3.start()\n",
    "\n",
    "# Wait for all three threads to finish executing\n",
    "thread1.join()\n",
    "thread2.join()\n",
    "thread3.join()\n",
    "\n",
    "# Print the number of active threads in the program\n",
    "print(f\"Number of active threads: {threading.activeCount()}\")\n",
    "\n",
    "# Print information about the current thread\n",
    "print(f\"Current thread ID: {threading.currentThread().ident}\")\n",
    "print(f\"Current thread name: {threading.currentThread().getName()}\")\n",
    "\n",
    "# Print information about all active thread objects\n",
    "for thread in threading.enumerate():\n",
    "    print(f\"Thread name: {thread.getName()}, ID: {thread.ident}, is daemon: {thread.daemon}\")"
   ]
  },
  {
   "cell_type": "code",
   "execution_count": null,
   "id": "2cb32d59-c95d-4fa7-a93b-9eca06c75636",
   "metadata": {},
   "outputs": [],
   "source": []
  },
  {
   "cell_type": "code",
   "execution_count": null,
   "id": "68320855-aaf1-4f36-81ed-889ffab3ed7d",
   "metadata": {},
   "outputs": [],
   "source": []
  },
  {
   "cell_type": "markdown",
   "id": "7aa90fbb-1c78-43b0-a3c0-8987c27a1163",
   "metadata": {},
   "source": [
    "3. Explain the following functions\n",
    "a)run() b)start() c) join() d) isAlive()"
   ]
  },
  {
   "cell_type": "markdown",
   "id": "43ce8454-e807-4f80-954f-13f8ed475282",
   "metadata": {},
   "source": [
    "n Python multithreading, the following functions are commonly used:\n",
    "\n",
    "a) run(): This method is called by the start() method of a thread object and is used to define the code that will be executed in the new thread. When the start() method is called, it will create a new thread and call its run() method, which will execute the code that has been defined.\n",
    "\n",
    "b) start(): This method is used to start a new thread of execution. When this method is called, a new thread is created, and its run() method is called to execute the code that has been defined.\n",
    "\n",
    "c) join(): This method is used to wait for a thread to complete its execution. When this method is called on a thread object, the calling thread will block until the target thread completes its execution.\n",
    "\n",
    "d) is_alive(): This method is used to check whether a thread is currently executing. It returns True if the thread is still executing, and False otherwise.\n",
    "\n",
    "Here is an example code that demonstrates the use of these functions in Python multithreading:"
   ]
  },
  {
   "cell_type": "code",
   "execution_count": 2,
   "id": "b0f18b95-a50a-40c0-a8ad-8bd995a1ab47",
   "metadata": {},
   "outputs": [
    {
     "name": "stdout",
     "output_type": "stream",
     "text": [
      "Thread-8 started\n",
      "Thread-9 started\n",
      "Thread-8 finishedThread-9 finished\n",
      "\n",
      "Thread 1 is alive: False\n",
      "Thread 2 is alive: False\n"
     ]
    }
   ],
   "source": [
    "import threading\n",
    "import time\n",
    "\n",
    "# Define a simple thread class\n",
    "class MyThread(threading.Thread):\n",
    "    def run(self):\n",
    "        print(f\"{self.name} started\")\n",
    "\n",
    "        time.sleep(2)\n",
    "        print(f\"{self.name} finished\")\n",
    "\n",
    "# Create two thread objects\n",
    "thread1 = MyThread()\n",
    "thread2 = MyThread()\n",
    "\n",
    "# Start the threads\n",
    "thread1.start()\n",
    "thread2.start()\n",
    "\n",
    "# Wait for the threads to finish\n",
    "thread1.join()\n",
    "thread2.join()\n",
    "\n",
    "# Check if the threads are still alive\n",
    "print(f\"Thread 1 is alive: {thread1.is_alive()}\")\n",
    "print(f\"Thread 2 is alive: {thread2.is_alive()}\")"
   ]
  },
  {
   "cell_type": "markdown",
   "id": "2e1f3c7b-6d22-4d40-be82-2284d6bcf66f",
   "metadata": {},
   "source": [
    "In this code, we define a simple thread class called MyThread that overrides the run() method to print a message and then sleep for 2 seconds. We then create two thread objects and start them using the start() method.\n",
    "\n",
    "We use the join() method to wait for the threads to complete their execution before checking whether they are still alive using the isAlive() method.\n",
    "\n",
    "This code demonstrates the basic use of the run(), start(), join(), and is_alive() functions in Python multithreading."
   ]
  },
  {
   "cell_type": "code",
   "execution_count": null,
   "id": "acac61aa-d3e7-4fc3-a662-71dd81d80ecd",
   "metadata": {},
   "outputs": [],
   "source": []
  },
  {
   "cell_type": "code",
   "execution_count": null,
   "id": "478400c0-46b5-4453-9488-166addba7089",
   "metadata": {},
   "outputs": [],
   "source": []
  },
  {
   "cell_type": "markdown",
   "id": "b02b0419-e7c4-4bbb-b23e-e2573f9060b2",
   "metadata": {},
   "source": [
    "4. Write a python program to create two threads. Thread one must print the list of squares and thread two must print the list of cubes"
   ]
  },
  {
   "cell_type": "markdown",
   "id": "223c100b-92be-438f-8fd3-3161a81b26a3",
   "metadata": {},
   "source": [
    "Here's a Python program that creates two threads, with one thread printing a list of squares and the other thread printing a list of cubes:"
   ]
  },
  {
   "cell_type": "code",
   "execution_count": 3,
   "id": "f8dc908c-9407-44cf-8d37-0ed0201e741b",
   "metadata": {},
   "outputs": [
    {
     "name": "stdout",
     "output_type": "stream",
     "text": [
      "\n",
      "1 squared is 1\n",
      "\n",
      "2 squared is 4\n",
      "\n",
      "3 squared is 9\n",
      "\n",
      "4 squared is 16\n",
      "\n",
      "5 squared is 25\n",
      "\n",
      "6 squared is 36\n",
      "\n",
      "7 squared is 49\n",
      "\n",
      "8 squared is 64\n",
      "\n",
      "9 squared is 81\n",
      "\n",
      "10 squared is 100\n",
      "\n",
      "1 cubed is 1\n",
      "\n",
      "2 cubed is 8\n",
      "\n",
      "3 cubed is 27\n",
      "\n",
      "4 cubed is 64\n",
      "\n",
      "5 cubed is 125\n",
      "\n",
      "6 cubed is 216\n",
      "\n",
      "7 cubed is 343\n",
      "\n",
      "8 cubed is 512\n",
      "\n",
      "9 cubed is 729\n",
      "\n",
      "10 cubed is 1000\n"
     ]
    }
   ],
   "source": [
    "import threading\n",
    "\n",
    "# Define a function to print a list of squares\n",
    "def print_squares():\n",
    "    for i in range(1, 11):\n",
    "        print(f\"\\n{i} squared is {i*i}\")\n",
    "        \n",
    "\n",
    "# Define a function to print a list of cubes\n",
    "def print_cubes():\n",
    "    for i in range(1, 11):\n",
    "        print(f\"\\n{i} cubed is {i*i*i}\")\n",
    "\n",
    "# Create two thread objects, one for each function\n",
    "thread1 = threading.Thread(target=print_squares)\n",
    "thread2 = threading.Thread(target=print_cubes)\n",
    "\n",
    "# Start the threads\n",
    "thread1.start()\n",
    "thread2.start()\n",
    "\n",
    "# Wait for the threads to finish\n",
    "thread1.join()\n",
    "thread2.join()"
   ]
  },
  {
   "cell_type": "code",
   "execution_count": null,
   "id": "b547c0ca-5e67-4baa-886e-423a90814543",
   "metadata": {},
   "outputs": [],
   "source": []
  },
  {
   "cell_type": "code",
   "execution_count": null,
   "id": "44ea2777-a85d-4d02-a43f-4ba25e70f0c7",
   "metadata": {},
   "outputs": [],
   "source": []
  },
  {
   "cell_type": "markdown",
   "id": "4d0c8da6-1915-4c14-be18-c19926a6a5aa",
   "metadata": {},
   "source": [
    "5. State advantages and disadvantages of multithreading"
   ]
  },
  {
   "cell_type": "markdown",
   "id": "98f20c9e-9ee4-48b3-aba1-6bca6edb851c",
   "metadata": {},
   "source": [
    "Multithreading has several advantages and disadvantages, which are listed below:\n",
    "\n",
    "Advantages of Multithreading:\n",
    "\n",
    "-Increased Performance: Multithreading can improve the performance of a program by allowing multiple threads to run concurrently on multiple processors or cores. This can lead to faster execution times and improved system responsiveness.\n",
    "\n",
    "-Better Resource Utilization: Multithreading allows multiple threads to share system resources such as CPU time and memory, resulting in better resource utilization and more efficient use of system resources.\n",
    "\n",
    "-Improved Responsiveness: Multithreading can improve the responsiveness of a program by allowing the user interface to remain active and responsive while long-running operations are performed in the background.\n",
    "\n",
    "-Improved Modularity: Multithreading allows complex programs to be broken down into smaller, more manageable components, making it easier to develop and maintain complex software systems.\n",
    "\n",
    "Disadvantages of Multithreading:\n",
    "\n",
    "-Increased Complexity: Multithreaded programs can be more complex and difficult to develop, test, and maintain than single-threaded programs, especially when dealing with shared resources.\n",
    "\n",
    "-Synchronization Overhead: When multiple threads access shared resources, synchronization mechanisms must be used to prevent race conditions and ensure data consistency. This can introduce overhead and reduce performance.\n",
    "\n",
    "-Deadlocks: Multithreaded programs can be prone to deadlocks, which occur when two or more threads are blocked waiting for each other to release resources.\n",
    "\n",
    "-Debugging Difficulties: Debugging multithreaded programs can be difficult because the behavior of a program can depend on the timing and interaction of multiple threads, making it harder to reproduce and diagnose problems.\n",
    "\n",
    "In summary, multithreading can lead to increased performance, better resource utilization, improved responsiveness, and improved modularity, but it can also introduce increased complexity, synchronization overhead, deadlocks, and debugging difficulties."
   ]
  },
  {
   "cell_type": "code",
   "execution_count": null,
   "id": "863c7ec2-516c-4e15-8854-d6f760434ae7",
   "metadata": {},
   "outputs": [],
   "source": []
  },
  {
   "cell_type": "code",
   "execution_count": null,
   "id": "6f3e171e-9df9-4709-a23b-d32e9cb8b413",
   "metadata": {},
   "outputs": [],
   "source": []
  },
  {
   "cell_type": "markdown",
   "id": "421be6a5-5ad7-4668-8025-dce28263a373",
   "metadata": {},
   "source": [
    "6) Explain deadlocks and race conditions."
   ]
  },
  {
   "cell_type": "markdown",
   "id": "fbac5ead-09ef-4f66-95c6-d3c5df02ef09",
   "metadata": {},
   "source": [
    "deadlocks and race conditions are two common concurrency issues that can occur in multithreaded programs.\n",
    "\n",
    "Deadlock:\n",
    "\n",
    "A deadlock occurs when two or more threads are blocked waiting for each other to release resources that they need to proceed. Deadlocks can occur when multiple threads access shared resources in a circular or cyclic manner, and each thread is waiting for the other thread to release the resource it needs.\n",
    "\n",
    "For example, suppose Thread 1 has locked Resource A and is waiting for Resource B, while Thread 2 has locked Resource B and is waiting for Resource A. In this case, both threads are blocked waiting for each other to release the resource they need, resulting in a deadlock.\n",
    "\n",
    "Deadlocks can be difficult to detect and debug because they can be dependent on the timing of the threads, and they can often result in a program that appears to be stuck or unresponsive.\n",
    "\n",
    "Race Condition:\n",
    "\n",
    "A race condition occurs when the behavior of a program depends on the timing or sequence of events in different threads. Race conditions can occur when multiple threads access a shared resource and the order or timing of the accesses is not properly controlled.\n",
    "\n",
    "For example, suppose two threads attempt to increment a shared counter at the same time. If the counter is initially set to zero, both threads may read the value of the counter as zero, and then both threads may increment the counter and write the value back to memory. In this case, the final value of the counter will be incorrect, since only one thread's increment operation will be reflected in the final value.\n",
    "\n",
    "Race conditions can be difficult to detect and debug, since they often depend on the timing of the threads and can result in non-deterministic behavior in the program.\n",
    "\n",
    "To avoid these concurrency issues, it is important to carefully design and implement multithreaded programs, using synchronization mechanisms such as locks, semaphores, and monitors to control access to shared resources and avoid deadlocks and race conditions.\n",
    "\n",
    "Here's an example of a race condition:"
   ]
  },
  {
   "cell_type": "code",
   "execution_count": 4,
   "id": "66ab533b-ebed-4716-8eb3-4fbad905b805",
   "metadata": {},
   "outputs": [
    {
     "name": "stdout",
     "output_type": "stream",
     "text": [
      "Counter value:  2000000\n"
     ]
    }
   ],
   "source": [
    "import threading\n",
    "\n",
    "counter = 0\n",
    "\n",
    "def increment():\n",
    "    global counter\n",
    "    for i in range(1000000):\n",
    "        counter += 1\n",
    "\n",
    "thread1 = threading.Thread(target=increment)\n",
    "thread2 = threading.Thread(target=increment)\n",
    "\n",
    "thread1.start()\n",
    "thread2.start()\n",
    "\n",
    "thread1.join()\n",
    "thread2.join()\n",
    "\n",
    "print(\"Counter value: \", counter)"
   ]
  },
  {
   "cell_type": "markdown",
   "id": "6ef99c30-3c9c-4340-96ab-a22fd2c0190d",
   "metadata": {},
   "source": [
    "In this example, we have a global counter variable that is shared by two threads. The increment() function simply increments the counter variable 1 million times. We create two threads that execute this function, and start them using the start() method. We then wait for both threads to finish using the join() method, and print the final value of the counter variable.\n",
    "\n",
    "However, since both threads are accessing and modifying the counter variable concurrently, there is a race condition that can occur. Depending on the timing of the threads, the final value of the counter variable may not be what we expect it to be.\n",
    "\n",
    "To avoid this race condition, we can use a synchronization mechanism such as a Lock to ensure that only one thread can access the counter variable at a time"
   ]
  },
  {
   "cell_type": "code",
   "execution_count": 5,
   "id": "a7548b54-1746-4282-9350-3513fcc12781",
   "metadata": {},
   "outputs": [
    {
     "name": "stdout",
     "output_type": "stream",
     "text": [
      "Counter value:  2000000\n"
     ]
    }
   ],
   "source": [
    "import threading\n",
    "\n",
    "counter = 0\n",
    "lock = threading.Lock()\n",
    "\n",
    "def increment():\n",
    "    global counter\n",
    "    for i in range(1000000):\n",
    "        with lock:\n",
    "            counter += 1\n",
    "\n",
    "thread1 = threading.Thread(target=increment)\n",
    "thread2 = threading.Thread(target=increment)\n",
    "\n",
    "thread1.start()\n",
    "thread2.start()\n",
    "\n",
    "thread1.join()\n",
    "thread2.join()\n",
    "\n",
    "print(\"Counter value: \", counter)"
   ]
  },
  {
   "cell_type": "markdown",
   "id": "64837192-c766-421d-bfb0-858ab77e1bbe",
   "metadata": {},
   "source": [
    "In this modified code, we use a Lock object to synchronize access to the counter variable. The increment() function now uses a with lock: block to acquire the lock before accessing the counter variable, and release the lock afterwards. This ensures that only one thread can access the counter variable at a time, and avoids the race condition that we saw earlier.\n",
    "\n",
    " "
   ]
  },
  {
   "cell_type": "code",
   "execution_count": null,
   "id": "2d5c5d3e-0dfb-45b9-be21-986488ef60c8",
   "metadata": {},
   "outputs": [],
   "source": []
  },
  {
   "cell_type": "code",
   "execution_count": null,
   "id": "f2c568cc-ab0b-4668-badf-30988c5d3a49",
   "metadata": {},
   "outputs": [],
   "source": []
  },
  {
   "cell_type": "code",
   "execution_count": 7,
   "id": "68cb6f15-b3c9-462e-ae4b-849ee0733a67",
   "metadata": {},
   "outputs": [],
   "source": [
    "##the end"
   ]
  },
  {
   "cell_type": "code",
   "execution_count": null,
   "id": "38411e50-b835-4325-bd46-cf09c535679f",
   "metadata": {},
   "outputs": [],
   "source": []
  }
 ],
 "metadata": {
  "kernelspec": {
   "display_name": "Python 3 (ipykernel)",
   "language": "python",
   "name": "python3"
  },
  "language_info": {
   "codemirror_mode": {
    "name": "ipython",
    "version": 3
   },
   "file_extension": ".py",
   "mimetype": "text/x-python",
   "name": "python",
   "nbconvert_exporter": "python",
   "pygments_lexer": "ipython3",
   "version": "3.10.8"
  }
 },
 "nbformat": 4,
 "nbformat_minor": 5
}
